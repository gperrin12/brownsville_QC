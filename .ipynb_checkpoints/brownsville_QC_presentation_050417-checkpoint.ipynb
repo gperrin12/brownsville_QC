{
 "cells": [
  {
   "cell_type": "markdown",
   "metadata": {},
   "source": [
    "## Brownsville Quantified Community Demonstration\n",
    "(5-4-17)\n",
    "\n",
    "-Goal is to showcase some of the plots & figures we can make with data collected from sensors within the quantified community. The data here comes from sensors installed in Redhook"
   ]
  },
  {
   "cell_type": "code",
   "execution_count": 1,
   "metadata": {
    "collapsed": false
   },
   "outputs": [
    {
     "name": "stdout",
     "output_type": "stream",
     "text": [
      "Populating the interactive namespace from numpy and matplotlib\n"
     ]
    },
    {
     "name": "stderr",
     "output_type": "stream",
     "text": [
      "WARNING: pylab import has clobbered these variables: ['datetime']\n",
      "`%matplotlib` prevents importing * from pylab and numpy\n"
     ]
    }
   ],
   "source": [
    "import numpy as np\n",
    "import pandas as pd\n",
    "import geopandas as gp\n",
    "from geopandas import GeoDataFrame\n",
    "import os\n",
    "from shapely.geometry import Point\n",
    "from datetime import datetime\n",
    "import matplotlib\n",
    "import matplotlib.pyplot as plt\n",
    "from datetime import datetime\n",
    "import sklearn\n",
    "\n",
    "np.random.seed(222)\n",
    "\n",
    "%matplotlib inline\n",
    "%pylab inline\n",
    "pd.options.display.max_columns = 120\n",
    "pd.options.display.max_rows = 120"
   ]
  },
  {
   "cell_type": "code",
   "execution_count": 3,
   "metadata": {
    "collapsed": true
   },
   "outputs": [],
   "source": [
    "data_folder = '/Users/geoffperrin/Desktop/CUSP/GRA/MOTI_brownsville/data/'"
   ]
  },
  {
   "cell_type": "code",
   "execution_count": 10,
   "metadata": {
    "collapsed": false
   },
   "outputs": [
    {
     "data": {
      "text/html": [
       "<div>\n",
       "<table border=\"1\" class=\"dataframe\">\n",
       "  <thead>\n",
       "    <tr style=\"text-align: right;\">\n",
       "      <th></th>\n",
       "      <th>time</th>\n",
       "      <th>tmp</th>\n",
       "      <th>hum</th>\n",
       "      <th>press</th>\n",
       "      <th>lux</th>\n",
       "      <th>bb</th>\n",
       "      <th>ir</th>\n",
       "      <th>db</th>\n",
       "      <th>con</th>\n",
       "    </tr>\n",
       "  </thead>\n",
       "  <tbody>\n",
       "    <tr>\n",
       "      <th>0</th>\n",
       "      <td>2016-06-09 14:43:45</td>\n",
       "      <td>24.23</td>\n",
       "      <td>29.62</td>\n",
       "      <td>100900.58</td>\n",
       "      <td>0.0</td>\n",
       "      <td>4935</td>\n",
       "      <td>4934</td>\n",
       "      <td>0.04</td>\n",
       "      <td>0.62</td>\n",
       "    </tr>\n",
       "    <tr>\n",
       "      <th>1</th>\n",
       "      <td>2016-06-09 14:43:50</td>\n",
       "      <td>24.24</td>\n",
       "      <td>29.69</td>\n",
       "      <td>100920.06</td>\n",
       "      <td>3620.0</td>\n",
       "      <td>350</td>\n",
       "      <td>87</td>\n",
       "      <td>0.02</td>\n",
       "      <td>2175.42</td>\n",
       "    </tr>\n",
       "    <tr>\n",
       "      <th>2</th>\n",
       "      <td>2016-06-09 14:43:56</td>\n",
       "      <td>24.24</td>\n",
       "      <td>29.74</td>\n",
       "      <td>100910.14</td>\n",
       "      <td>0.0</td>\n",
       "      <td>4934</td>\n",
       "      <td>4934</td>\n",
       "      <td>0.01</td>\n",
       "      <td>13058.10</td>\n",
       "    </tr>\n",
       "    <tr>\n",
       "      <th>3</th>\n",
       "      <td>2016-06-09 14:44:01</td>\n",
       "      <td>24.35</td>\n",
       "      <td>29.90</td>\n",
       "      <td>100917.14</td>\n",
       "      <td>0.0</td>\n",
       "      <td>4934</td>\n",
       "      <td>4934</td>\n",
       "      <td>0.01</td>\n",
       "      <td>11495.72</td>\n",
       "    </tr>\n",
       "    <tr>\n",
       "      <th>4</th>\n",
       "      <td>2016-06-09 14:44:06</td>\n",
       "      <td>24.42</td>\n",
       "      <td>29.75</td>\n",
       "      <td>100921.06</td>\n",
       "      <td>0.0</td>\n",
       "      <td>4934</td>\n",
       "      <td>4934</td>\n",
       "      <td>0.02</td>\n",
       "      <td>13453.59</td>\n",
       "    </tr>\n",
       "  </tbody>\n",
       "</table>\n",
       "</div>"
      ],
      "text/plain": [
       "                  time    tmp    hum      press     lux    bb    ir    db  \\\n",
       "0  2016-06-09 14:43:45  24.23  29.62  100900.58     0.0  4935  4934  0.04   \n",
       "1  2016-06-09 14:43:50  24.24  29.69  100920.06  3620.0   350    87  0.02   \n",
       "2  2016-06-09 14:43:56  24.24  29.74  100910.14     0.0  4934  4934  0.01   \n",
       "3  2016-06-09 14:44:01  24.35  29.90  100917.14     0.0  4934  4934  0.01   \n",
       "4  2016-06-09 14:44:06  24.42  29.75  100921.06     0.0  4934  4934  0.02   \n",
       "\n",
       "        con  \n",
       "0      0.62  \n",
       "1   2175.42  \n",
       "2  13058.10  \n",
       "3  11495.72  \n",
       "4  13453.59  "
      ]
     },
     "execution_count": 10,
     "metadata": {},
     "output_type": "execute_result"
    }
   ],
   "source": [
    "qc_df_raw = pd.read_csv(data_folder + 'rhi_roof_sensor0.csv', usecols=['time', 'tmp', 'hum',\\\n",
    "                                                                      'press', 'lux', 'bb', 'ir',\\\n",
    "                                                                      'db', 'con'])\n",
    "qc_df_raw.head()"
   ]
  },
  {
   "cell_type": "code",
   "execution_count": 11,
   "metadata": {
    "collapsed": true
   },
   "outputs": [],
   "source": [
    "qc_df_raw['time'] = pd.to_datetime(qc_df_raw['time'])"
   ]
  },
  {
   "cell_type": "code",
   "execution_count": 16,
   "metadata": {
    "collapsed": false
   },
   "outputs": [
    {
     "data": {
      "text/plain": [
       "2016"
      ]
     },
     "execution_count": 16,
     "metadata": {},
     "output_type": "execute_result"
    }
   ],
   "source": [
    "qc_df_raw['time'][3].year"
   ]
  },
  {
   "cell_type": "code",
   "execution_count": 22,
   "metadata": {
    "collapsed": true
   },
   "outputs": [],
   "source": [
    "qc_df_raw['hour'] = qc_df_raw.time.apply(lambda x: x.hour)\n",
    "qc_df_raw['month'] = qc_df_raw.time.apply(lambda x: x.month)\n",
    "qc_df_raw['year'] = qc_df_raw.time.apply(lambda x: x.year)"
   ]
  },
  {
   "cell_type": "code",
   "execution_count": 27,
   "metadata": {
    "collapsed": false
   },
   "outputs": [],
   "source": [
    "qc_df = qc_df_raw[(qc_df_raw['year'] >= 2016) & (qc_df_raw['month']>=8)]"
   ]
  },
  {
   "cell_type": "code",
   "execution_count": 28,
   "metadata": {
    "collapsed": false
   },
   "outputs": [
    {
     "data": {
      "image/png": "[encoded data removed]",
      "text/plain": [
       "<matplotlib.figure.Figure at 0x10259c650>"
      ]
     },
     "metadata": {},
     "output_type": "display_data"
    }
   ],
   "source": [
    "plt.plot(qc_df['time'],qc_df['tmp'])\n",
    "plt.show()"
   ]
  },
  {
   "cell_type": "code",
   "execution_count": null,
   "metadata": {
    "collapsed": true
   },
   "outputs": [],
   "source": []
  }
 ],
 "metadata": {
  "anaconda-cloud": {},
  "kernelspec": {
   "display_name": "Python [Root]",
   "language": "python",
   "name": "Python [Root]"
  },
  "language_info": {
   "codemirror_mode": {
    "name": "ipython",
    "version": 2
   },
   "file_extension": ".py",
   "mimetype": "text/x-python",
   "name": "python",
   "nbconvert_exporter": "python",
   "pygments_lexer": "ipython2",
   "version": "2.7.12"
  }
 },
 "nbformat": 4,
 "nbformat_minor": 2
}
